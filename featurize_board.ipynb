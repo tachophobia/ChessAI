{
 "cells": [
  {
   "cell_type": "code",
   "execution_count": null,
   "metadata": {},
   "outputs": [],
   "source": [
    "import chess\n",
    "board = chess.Board()\n",
    "board.push_san(\"e4\")\n",
    "board.push_san(\"e5\")\n",
    "board.push_san(\"Qh5\")\n",
    "board.push_san(\"Nc6\")\n",
    "# print([*map(str, board.legal_moves)])\n",
    "board.push_san(\"Bc4\")\n",
    "board.push_san(\"Nf6\")\n",
    "board.push_san(\"Qxf7\")\n",
    "print(board.outcome().winner)\n",
    "print(board.fen())\n",
    "board.mirror()"
   ]
  },
  {
   "cell_type": "markdown",
   "metadata": {},
   "source": [
    "## Generate all possible legal moves"
   ]
  },
  {
   "cell_type": "code",
   "execution_count": null,
   "metadata": {},
   "outputs": [],
   "source": [
    "action_space = set()\n",
    "board = chess.Board()\n",
    "for i in chess.SQUARES:\n",
    "    for color in [chess.WHITE, chess.BLACK]:\n",
    "        for piece in [chess.PAWN, chess.QUEEN, chess.KNIGHT, chess.KING]:\n",
    "            board.clear()\n",
    "            board.turn = color\n",
    "            board.set_piece_at(i, chess.Piece(piece, color))\n",
    "            action_space = action_space.union({*map(str, board.pseudo_legal_moves)})\n",
    "board.clear()\n",
    "for i in range(0, 8):\n",
    "    board.set_piece_at(i, chess.Piece(chess.ROOK, chess.WHITE))\n",
    "for i in range(56, 64):\n",
    "    board.set_piece_at(i, chess.Piece(chess.ROOK, chess.BLACK))\n",
    "for i in range(8, 16):\n",
    "    board.set_piece_at(i, chess.Piece(chess.PAWN, chess.BLACK))\n",
    "for i in range(48, 56):\n",
    "    board.set_piece_at(i, chess.Piece(chess.PAWN, chess.WHITE))\n",
    "board.turn=True\n",
    "action_space = action_space.union({*map(str, board.pseudo_legal_moves)})\n",
    "board.turn = False\n",
    "action_space = action_space.union({*map(str, board.pseudo_legal_moves)})\n",
    "with open('chess_possible_moves.txt', 'w') as f:\n",
    "    f.write('\\n'.join(sorted(action_space)))\n",
    "print(len(action_space))"
   ]
  },
  {
   "cell_type": "markdown",
   "metadata": {},
   "source": [
    "## Board Representation"
   ]
  },
  {
   "cell_type": "code",
   "execution_count": null,
   "metadata": {},
   "outputs": [],
   "source": [
    "def mirror_uci(move):\n",
    "    file_map = {'a': 'h', 'b': 'g', 'c': 'f', 'd': 'e', \n",
    "                'e': 'd', 'f': 'c', 'g': 'b', 'h': 'a'}\n",
    "    rank_map = {'1': '8', '2': '7', '3': '6', '4': '5', \n",
    "                '5': '4', '6': '3', '7': '2', '8': '1'}\n",
    "\n",
    "    mirrored_move = \"\"\n",
    "    \n",
    "    for char in move:\n",
    "        if char in file_map:\n",
    "            mirrored_move += file_map[char]\n",
    "        elif char in rank_map:\n",
    "            mirrored_move += rank_map[char]\n",
    "        else:\n",
    "            mirrored_move += char \n",
    "    \n",
    "    return mirrored_move\n",
    "\n",
    "print(mirror_uci(\"e2e4\"))\n",
    "print(mirror_uci(\"a7a8q\")) \n"
   ]
  },
  {
   "cell_type": "code",
   "execution_count": null,
   "metadata": {},
   "outputs": [],
   "source": [
    "import numpy as np\n",
    "state = chess.Board()\n",
    "state.push_uci(\"e2e4\")\n",
    "matrices = []\n",
    "\n",
    "if not state.turn:\n",
    "    board = state.mirror()\n",
    "\n",
    "symbols = ['P', 'R', 'K', 'B', 'Q', 'K', 'p', 'r', 'k', 'b', 'q', 'k']\n",
    "\n",
    "for symbol in symbols:\n",
    "    matrix = np.zeros((8, 8), dtype=int)\n",
    "    for square in chess.SQUARES:\n",
    "        piece = board.piece_at(square)\n",
    "        if piece and piece.symbol() == symbol:\n",
    "            i, j = np.unravel_index(square, (8, 8))\n",
    "            matrix[i][j] = 1\n",
    "    matrices.append(matrix)\n",
    "\n",
    "ones = np.ones((8, 8), dtype=int)\n",
    "zeros = np.zeros((8, 8), dtype=int)\n",
    "matrices.append(ones if board.has_kingside_castling_rights(chess.WHITE) else zeros)\n",
    "matrices.append(ones if board.has_queenside_castling_rights(chess.WHITE) else zeros)\n",
    "matrices.append(ones if board.has_kingside_castling_rights(chess.BLACK) else zeros)\n",
    "matrices.append(ones if board.has_queenside_castling_rights(chess.BLACK) else zeros)\n",
    "\n",
    "en_passant = np.zeros((8, 8), dtype=int)\n",
    "if board.ep_square is not None:\n",
    "    i, j = np.unravel_index(board.ep_square, (8, 8))\n",
    "    en_passant[i][j] = 1\n",
    "matrices.append(en_passant)\n",
    "\n",
    "halfmove_clock = np.full((8, 8), board.halfmove_clock, dtype=int)\n",
    "matrices.append(halfmove_clock)\n",
    "\n",
    "matrices = np.stack(matrices, axis=0)\n",
    "print(len(matrices))"
   ]
  }
 ],
 "metadata": {
  "kernelspec": {
   "display_name": "base",
   "language": "python",
   "name": "python3"
  },
  "language_info": {
   "codemirror_mode": {
    "name": "ipython",
    "version": 3
   },
   "file_extension": ".py",
   "mimetype": "text/x-python",
   "name": "python",
   "nbconvert_exporter": "python",
   "pygments_lexer": "ipython3",
   "version": "3.9.13"
  }
 },
 "nbformat": 4,
 "nbformat_minor": 2
}
