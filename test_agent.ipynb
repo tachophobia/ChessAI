{
 "cells": [
  {
   "cell_type": "code",
   "execution_count": 2,
   "metadata": {},
   "outputs": [],
   "source": [
    "from train import Trainer\n",
    "from neural_net import NeuralNetwork\n",
    "import random\n",
    "import chess\n",
    "import pickle\n",
    "import matplotlib.pyplot as plt"
   ]
  },
  {
   "cell_type": "code",
   "execution_count": null,
   "metadata": {},
   "outputs": [],
   "source": [
    "with open(\"losses.pkl\", \"rb\") as f:\n",
    "    losses = pickle.load(f)\n",
    "\n",
    "plt.plot(losses)\n",
    "plt.xlabel(\"Epochs\")\n",
    "plt.ylabel(\"Loss\")\n",
    "plt.title(\"Loss over time\")\n",
    "plt.show()"
   ]
  },
  {
   "cell_type": "code",
   "execution_count": null,
   "metadata": {},
   "outputs": [],
   "source": [
    "trainer = Trainer()\n",
    "trainer.load(\"model.pth\")\n",
    "trainer.target = NeuralNetwork()\n",
    "wins = 0\n",
    "state = chess.Board()\n",
    "\n",
    "player = True\n",
    "white, black = trainer.model, trainer.target\n",
    "if random.random() < 0.5:\n",
    "    white, black = black, white\n",
    "    player = not player\n",
    "while not state.is_game_over():\n",
    "    if state.turn:\n",
    "        a = white.choose_move(state)\n",
    "    else:\n",
    "        a = black.choose_move(state)\n",
    "    state.push_uci(a)\n",
    "if state.is_checkmate() and state.outcome().winner == player:\n",
    "    wins += 1\n",
    "print(f\"Playing as {'white' if player else 'black'}\")\n",
    "state"
   ]
  },
  {
   "cell_type": "code",
   "execution_count": null,
   "metadata": {},
   "outputs": [],
   "source": [
    "from IPython.display import display, clear_output, SVG\n",
    "import chess.svg\n",
    "import time\n",
    "\n",
    "board = chess.Board()\n",
    "for move in state.move_stack:\n",
    "    board.push_uci(move.__str__())\n",
    "    display(SVG(chess.svg.board(board=board, size=400)))\n",
    "    time.sleep(0.1)\n",
    "    clear_output(wait=True)\n",
    "    "
   ]
  }
 ],
 "metadata": {
  "kernelspec": {
   "display_name": "base",
   "language": "python",
   "name": "python3"
  },
  "language_info": {
   "codemirror_mode": {
    "name": "ipython",
    "version": 3
   },
   "file_extension": ".py",
   "mimetype": "text/x-python",
   "name": "python",
   "nbconvert_exporter": "python",
   "pygments_lexer": "ipython3",
   "version": "3.9.13"
  }
 },
 "nbformat": 4,
 "nbformat_minor": 2
}
